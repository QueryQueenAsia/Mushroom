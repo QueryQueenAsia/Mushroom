{
 "cells": [
  {
   "cell_type": "code",
   "execution_count": 1,
   "id": "a28a17de",
   "metadata": {},
   "outputs": [],
   "source": [
    "import numpy as np\n",
    "import pandas as pd\n",
    "data = pd.read_csv('agaricus-lepiota.data')\n",
    "data.columns = ('class', 'cap-shape', 'cap-surface', 'cap-color', 'bruises?', 'odor', 'gill-attachment', 'gill-spacing', 'gill-size','gill-color', 'stalk-shape', 'stalk-root', 'stalk-surface-above-ring', 'stalk-surface-below-ring', 'stalk-color-above-ring', 'stalk-color-below-ring', 'veil-type', 'veil-color', 'ring-number', 'ring-type', 'spore-print-color', 'population', 'habitat')"
   ]
  },
  {
   "cell_type": "code",
   "execution_count": 4,
   "id": "9fdf2a9b",
   "metadata": {},
   "outputs": [],
   "source": [
    "from pickle import DICT\n",
    "DICT1 = {'e':'edible', 'p':'poisonous'}\n",
    "DICT2 = {'a': 'almond', 'l': 'anise', 'c':'creosote','y':'fishy','f':'foul', 'm':'musty','n':'none',\n",
    "         'p':'pungent','s':'spicy'}\n",
    "DICT3 = {'b':'bell', 'c':'conical', 'x':'convex', 'f': 'flat', 'k':'knobbed', 's':'sunken'}\n",
    "DICT4 = {'f':'fibrous', 'g':'grooves', 'y':'scaly', 's':'smooth'}\n",
    "\n",
    "data['class'] = data['class'].replace(DICT1).astype('category')\n",
    "data['odor'] = data['odor'].replace(DICT2).astype('category')\n",
    "data['cap-shape'] = data['cap-shape'].replace(DICT3).astype('category')\n",
    "data['cap-surface'] = data['cap-surface'].replace(DICT4).astype('category')"
   ]
  },
  {
   "cell_type": "code",
   "execution_count": 5,
   "id": "5929a6d3",
   "metadata": {},
   "outputs": [],
   "source": [
    "data.to_csv('mushroom_decoded.csv', index = False)"
   ]
  }
 ],
 "metadata": {
  "kernelspec": {
   "display_name": "Python 3",
   "language": "python",
   "name": "python3"
  },
  "language_info": {
   "codemirror_mode": {
    "name": "ipython",
    "version": 3
   },
   "file_extension": ".py",
   "mimetype": "text/x-python",
   "name": "python",
   "nbconvert_exporter": "python",
   "pygments_lexer": "ipython3",
   "version": "3.11.9"
  }
 },
 "nbformat": 4,
 "nbformat_minor": 5
}
